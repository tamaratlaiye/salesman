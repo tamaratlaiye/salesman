{
  "nbformat": 4,
  "nbformat_minor": 0,
  "metadata": {
    "colab": {
      "provenance": []
    },
    "kernelspec": {
      "name": "python3",
      "display_name": "Python 3"
    },
    "language_info": {
      "name": "python"
    },
    "accelerator": "GPU",
    "gpuClass": "standard"
  },
  "cells": [
    {
      "cell_type": "code",
      "execution_count": 1,
      "metadata": {
        "id": "c9MpibfZ0pG1"
      },
      "outputs": [],
      "source": [
        "#importamos librerias\n",
        "import numpy as np\n",
        "import random\n",
        "import time\n",
        "from datetime import datetime\n",
        "import networkx as nx"
      ]
    },
    {
      "cell_type": "markdown",
      "source": [
        "# 3º PROJECT\n",
        "### 166912\n",
        "### Tamara Tlaiye Peredo\n",
        "\n"
      ],
      "metadata": {
        "id": "RNi5oVpAfbhe"
      }
    },
    {
      "cell_type": "code",
      "source": [
        "# Definimos la gráficca\n",
        "Graph = nx.Graph()\n",
        "Graph.add_node(\"Paris\")\n",
        "Graph.add_node(\"Rome\")\n",
        "Graph.add_node(\"London\")\n",
        "Graph.add_node(\"Amsterdam\")\n",
        "Graph.add_node(\"Milan\")\n",
        "Graph.add_node(\"Lyon\")\n",
        "Graph.add_node(\"Barcelona\")\n",
        "Graph.add_node(\"Madrid\")\n",
        "Graph.add_node(\"Berlin\")\n",
        "Graph.add_node(\"Cologne\")\n",
        "Graph.add_node(\"Frankfurt\")\n",
        "Graph.add_node(\"Brussels\")\n",
        "Graph.add_edge(\"London\", \"Paris\", cost = 98, time = 136)\n",
        "Graph.add_edge(\"London\", \"Brussels\", cost=48, time = 105)\n",
        "Graph.add_edge(\"Brussels\", \"Paris\", cost = 80, time = 82)\n",
        "Graph.add_edge(\"Brussels\", \"Amsterdam\", cost = 40, time = 120)\n",
        "Graph.add_edge(\"Paris\", \"Madrid\", cost = 380, time = 225)\n",
        "Graph.add_edge(\"Paris\", \"Barcelona\", cost = 400, time = 390)\n",
        "Graph.add_edge(\"Paris\", \"Lyon\", cost = 185, time = 112)\n",
        "Graph.add_edge(\"Paris\", \"Frankfurt\", cost = 345, time = 480)\n",
        "Graph.add_edge(\"Madrid\", \"Barcelona\", cost = 98, time = 150)\n",
        "Graph.add_edge(\"Barcelona\", \"Lyon\", cost = 320, time = 260)\n",
        "Graph.add_edge(\"Lyon\", \"Milan\", cost = 180, time = 234)\n",
        "Graph.add_edge(\"Milan\", \"Frankfurt\", cost = 240, time = 454)\n",
        "Graph.add_edge(\"Milan\", \"Rome\", cost = 125, time = 168)\n",
        "Graph.add_edge(\"Frankfurt\", \"Berlin\", cost = 125, time = 232)\n",
        "Graph.add_edge(\"Frankfurt\", \"Cologne\", cost = 40, time = 120)\n",
        "Graph.add_edge(\"Amsterdam\", \"Cologne\", cost = 40, time = 120)\n",
        "Graph.add_edge(\"Amsterdam\", \"Berlin\", cost = 235, time = 364)\n",
        "Graph_new = Graph.copy()"
      ],
      "metadata": {
        "id": "4JBLCnY3fcOW"
      },
      "execution_count": 2,
      "outputs": []
    },
    {
      "cell_type": "code",
      "source": [
        "population_size = 500\n",
        "mutation_rate = 0.2\n",
        "cities = np.array(list(Graph_new.nodes()))"
      ],
      "metadata": {
        "id": "cSFgZq1RxiEF"
      },
      "execution_count": 3,
      "outputs": []
    },
    {
      "cell_type": "code",
      "source": [
        "#Usamos Djikstra en minutos\n",
        "for i in Graph.nodes():\n",
        "  for j in Graph.nodes():\n",
        "    #checamos los nodes\n",
        "    if i !=j:\n",
        "      costo = 0\n",
        "      tiempo = 0\n",
        "      if ((str(i),str(j)) or (str(i),str(j))) not in Graph_new.edges():\n",
        "        #para todos menos el ultimo\n",
        "        for k in range(0, len(nx.dijkstra_path(Graph, i, j, weight='time'))-1):\n",
        "          #si existe (k,k+1) \n",
        "          try:\n",
        "            #costo y tiempo\n",
        "            costo = costo + Graph.get_edge_data(nx.dijkstra_path(Graph, i, j, weight='time')[k],nx.dijkstra_path(Graph, i, j, weight='time')[k+1])['cost']\n",
        "            tiempo = tiempo + Graph.get_edge_data(nx.dijkstra_path(Graph, i, j, weight='time')[k],nx.dijkstra_path(Graph, i, j, weight='time')[k+1])['time']\n",
        "          #si no existe\n",
        "          except:\n",
        "            #agregamos costo y tiempo\n",
        "            costo = costo + Graph.get_edge_data(nx.dijkstra_path(Graph, i, j, weight='time')[k+1],nx.dijkstra_path(Graph, i, j, weight='time')[k])['cost']\n",
        "            tiempo = tiempo + Graph.get_edge_data(nx.dijkstra_path(Graph, i, j, weight='time')[k+1],nx.dijkstra_path(Graph, i, j, weight='time')[k])['time']\n",
        "        Graph_new.add_edge(i,j, cost = costo, time = tiempo)"
      ],
      "metadata": {
        "id": "IOuw20Ap1t9c"
      },
      "execution_count": 4,
      "outputs": []
    },
    {
      "cell_type": "code",
      "source": [
        "#primera población\n",
        "def initialize_population(cities, population_size):\n",
        "    population = [] #iniciamos en 0\n",
        "    for i in range(population_size):\n",
        "        #lista random\n",
        "        individual = cities[np.random.choice(list(range(len(cities))), len(cities), replace=False)]\n",
        "        #Add the individual to the population\n",
        "        population.append(individual)\n",
        "    return np.array(population)"
      ],
      "metadata": {
        "id": "7mBLENpg01z9"
      },
      "execution_count": 5,
      "outputs": []
    },
    {
      "cell_type": "code",
      "source": [
        "#evaluar el fitness de un individual\n",
        "def evaluate_fitness(cities, cities_graph):\n",
        "    totalcost = 0\n",
        "    totaltime = 0\n",
        "    #para cada ciudad get el costo y el tiempo\n",
        "    for i in range(len(cities)-1):\n",
        "        a = cities[i]\n",
        "        b = cities[i+1]\n",
        "        try:\n",
        "          totalcost += cities_graph.get_edge_data(a,b)['cost']\n",
        "          totaltime += cities_graph.get_edge_data(a,b)['time']\n",
        "        except:\n",
        "          totalcost += cities_graph.get_edge_data(b,a)['cost']\n",
        "          totaltime += cities_graph.get_edge_data(b,a)['time']\n",
        "    #para regresar a la ciudad inicial\n",
        "    try:\n",
        "      totalcost += cities_graph.get_edge_data(cities[0],cities[-1])['cost']\n",
        "      totaltime += cities_graph.get_edge_data(cities[0],cities[-1])['time']\n",
        "    except:\n",
        "      totalcost += cities_graph.get_edge_data(cities[-1],cities[0])['cost']\n",
        "      totaltime += cities_graph.get_edge_data(cities[-1],cities[0])['time']\n",
        "    #que no pase los 3 dias\n",
        "    if totaltime > 4320:\n",
        "      totalcost += 990000\n",
        "    return 1000 - totalcost/1000"
      ],
      "metadata": {
        "id": "yiRKG4os018q"
      },
      "execution_count": 6,
      "outputs": []
    },
    {
      "cell_type": "code",
      "source": [
        "#fitnes de la pobalción\n",
        "def get_population_fitness(population, cities_graph):\n",
        "    fitness_list = np.zeros(len(population))\n",
        "    for i in  range(len(population)):\n",
        "        fitness_list[i] = evaluate_fitness(population[i], cities_graph)\n",
        "    return fitness_list"
      ],
      "metadata": {
        "id": "oMeQuK-K02DS"
      },
      "execution_count": 7,
      "outputs": []
    },
    {
      "cell_type": "code",
      "source": [
        "#seleccionar papás\n",
        "def parent_selection(population, fitness_list):\n",
        "    #prob de mating mating\n",
        "    total_fit = fitness_list.sum()\n",
        "    prob_list = fitness_list/total_fit\n",
        "    parent_list_a = np.random.choice(list(range(len(population))), len(population),p=prob_list, replace=True)\n",
        "    parent_list_b = np.random.choice(list(range(len(population))), len(population),p=prob_list, replace=True)  \n",
        "    parent_list_a = population[parent_list_a]\n",
        "    parent_list_b = population[parent_list_b]  \n",
        "    return np.array([parent_list_a,parent_list_b])"
      ],
      "metadata": {
        "id": "ThYq8R_702Gk"
      },
      "execution_count": 8,
      "outputs": []
    },
    {
      "cell_type": "code",
      "source": [
        "#mate a los papás\n",
        "def mate_parents(parent_a, parent_b):\n",
        "    #random number (6)\n",
        "    offspring = parent_a[0:random.randint(1,6)]\n",
        "    #agregar las ciudades que faltan\n",
        "    for city in parent_b:\n",
        "        if not city in offspring:\n",
        "            offspring = np.concatenate((offspring,[city]))\n",
        "    return offspring #nos da el hijo"
      ],
      "metadata": {
        "id": "u_9nJOAn02I-"
      },
      "execution_count": 9,
      "outputs": []
    },
    {
      "cell_type": "code",
      "source": [
        "#mate a population\n",
        "def mate_population(potential_parents_list):\n",
        "    new_population = [] #iniciamos en 0\n",
        "    #creamos hijo\n",
        "    for i in range(potential_parents_list.shape[1]):\n",
        "        parent_a, parent_b = potential_parents_list[0][i], potential_parents_list[1][i]\n",
        "        offspring = mate_parents(parent_a, parent_b)\n",
        "        new_population.append(offspring)   \n",
        "    return new_population"
      ],
      "metadata": {
        "id": "DiVKZxxN02LW"
      },
      "execution_count": 10,
      "outputs": []
    },
    {
      "cell_type": "code",
      "source": [
        "#mate un individual\n",
        "def mutate_offspring(offspring, mutation_rate):\n",
        "    for q in range(int(len(offspring)*mutation_rate)):\n",
        "        a = np.random.randint(0,len(offspring))\n",
        "        b = np.random.randint(0,len(offspring))\n",
        "        offspring[a], offspring[b] = offspring[b], offspring[a]\n",
        "    return offspring #nos da hioj"
      ],
      "metadata": {
        "id": "3P74Hf8X02Nw"
      },
      "execution_count": 11,
      "outputs": []
    },
    {
      "cell_type": "code",
      "source": [
        "#mutate a poblacion\n",
        "def mutate_population(new_population_set, mutation_rate):\n",
        "    mutated_pop = [] #iniciamos en 0\n",
        "    for offspring in new_population_set:\n",
        "        mutated_pop.append(mutate_offspring(offspring, mutation_rate))\n",
        "    return np.array(mutated_pop)"
      ],
      "metadata": {
        "id": "htDhKyAC1Kle"
      },
      "execution_count": 12,
      "outputs": []
    },
    {
      "cell_type": "code",
      "source": [
        "#para tener el total time\n",
        "def get_solution_time(solution, solution_graph):\n",
        "  totaltime = 0\n",
        "  for i in range(len(solution)-1):\n",
        "      a = solution[i]\n",
        "      b = solution[i+1]\n",
        "      try:\n",
        "        totaltime += solution_graph.get_edge_data(a,b)['time']\n",
        "      except:\n",
        "        totaltime += solution_graph.get_edge_data(b,a)['time']\n",
        "  try:\n",
        "    totaltime += solution_graph.get_edge_data(solution[0],solution[-1])['time']\n",
        "  except:\n",
        "    totaltime += solution_graph.get_edge_data(solution[-1],solution[0])['time']\n",
        "  return totaltime"
      ],
      "metadata": {
        "id": "kL27q_EA1Qct"
      },
      "execution_count": 13,
      "outputs": []
    },
    {
      "cell_type": "code",
      "source": [
        "best_solution = [-1,np.inf,np.array([])] #para guardar mejor solucion\n",
        "num_of_iter = 2500  #iteramos 2500 veces \n",
        "initial_population = initialize_population(cities, population_size) #Crear poblacion inicial\n",
        "fitnesslist = get_population_fitness(initial_population,Graph_new)\n",
        "parent_list = parent_selection(initial_population,fitnesslist) \n",
        "new_population = mate_population(parent_list) #nueva pobalcion\n",
        "mutated_population = mutate_population(new_population, mutation_rate) #mutranos poblacion\n",
        "    \n",
        "for i in range(num_of_iter):\n",
        "    fitnesslist = get_population_fitness(mutated_population,Graph_new)\n",
        "   #si es una mejor solución, guardamos \n",
        "    if fitnesslist.min() < best_solution[1]:\n",
        "        best_solution[0] = i\n",
        "        best_solution[1] = (1000 - fitnesslist.max())*1000\n",
        "        best_solution[2] = np.array(mutated_population)[fitnesslist.max() == fitnesslist]\n",
        "    #creamos nuevos papas, nueva poblacion y mutamos  \n",
        "    parent_list = parent_selection(mutated_population, fitnesslist)\n",
        "    new_population = mate_population(parent_list)\n",
        "    mutated_population = mutate_population(new_population, mutation_rate)"
      ],
      "metadata": {
        "id": "jVvZvJ2T1Rf2"
      },
      "execution_count": 14,
      "outputs": []
    },
    {
      "cell_type": "code",
      "source": [
        "#solución pasando por todas las ciudades\n",
        "solution_with_intermediaries = []\n",
        "for i in range(0, len(best_solution[2][0])-1):\n",
        "  solution_with_intermediaries.append(best_solution[2][0][i])\n",
        "  pathlist = list(nx.dijkstra_path(Graph, best_solution[2][0][i], best_solution[2][0][i+1], weight='time'))\n",
        "  pathlist = pathlist[1:-1]\n",
        "  #para cada ciudad\n",
        "  for j in pathlist:\n",
        "    solution_with_intermediaries.append(j)\n",
        "#regresamos a la original\n",
        "pathlist = list(nx.dijkstra_path(Graph, best_solution[2][0][-1], best_solution[2][0][0], weight='time'))\n",
        "pathlist = pathlist[:-1]\n",
        "for j in pathlist:\n",
        "  solution_with_intermediaries.append(j)"
      ],
      "metadata": {
        "id": "GhYrrRi91fi9"
      },
      "execution_count": 15,
      "outputs": []
    },
    {
      "cell_type": "code",
      "source": [
        "#Imprimimos resultado\n",
        "print(\"Best tour for the salesman is: \")\n",
        "for i in solution_with_intermediaries:\n",
        "  print(i + ' to ', end = '')\n",
        "print(best_solution[2][0][0])\n",
        "print('')\n",
        "#imprimimos costo\n",
        "print(\"The total cost is: \")\n",
        "print(int(best_solution[1]), 'euros.')\n",
        "print('')\n",
        "#Imprimimos tiempo\n",
        "print(\"The time needed is: \")\n",
        "print(get_solution_time(best_solution[2][0], Graph_new)/60, 'hours.')"
      ],
      "metadata": {
        "colab": {
          "base_uri": "https://localhost:8080/"
        },
        "id": "gjm4dlw41gPA",
        "outputId": "11cefccc-0bb1-495c-902e-73a820bc1b4e"
      },
      "execution_count": 16,
      "outputs": [
        {
          "output_type": "stream",
          "name": "stdout",
          "text": [
            "Best tour for the salesman is: \n",
            "Paris to Brussels to Amsterdam to Brussels to Amsterdam to Cologne to Frankfurt to Berlin to Frankfurt to Cologne to Amsterdam to Brussels to Paris to Madrid to Barcelona to Lyon to Milan to Rome to Milan to Lyon to Paris to London to Paris\n",
            "\n",
            "The total cost is: \n",
            "2519 euros.\n",
            "\n",
            "The time needed is: \n",
            "56.85 hours.\n"
          ]
        }
      ]
    },
    {
      "cell_type": "code",
      "source": [],
      "metadata": {
        "id": "xq9FXYoeySkx"
      },
      "execution_count": 16,
      "outputs": []
    }
  ]
}